{
 "cells": [
  {
   "cell_type": "code",
   "execution_count": null,
   "id": "929f5aa4-5304-4a5a-96bc-348bb0e1168a",
   "metadata": {},
   "outputs": [],
   "source": [
    "!wget https://raw.githubusercontent.com/alexeygrigorev/minsearch/refs/heads/main/minsearch.py"
   ]
  },
  {
   "cell_type": "code",
   "execution_count": null,
   "id": "36a9c03c-0b51-4c3c-8276-99f8625683e3",
   "metadata": {},
   "outputs": [],
   "source": [
    "import minsearch"
   ]
  },
  {
   "cell_type": "code",
   "execution_count": null,
   "id": "cde6645b-a2db-4f67-ad43-84a6feff7568",
   "metadata": {},
   "outputs": [],
   "source": [
    "import requests \n",
    "\n",
    "docs_url = 'https://github.com/DataTalksClub/llm-zoomcamp/blob/main/01-intro/documents.json?raw=1'\n",
    "docs_response = requests.get(docs_url)\n",
    "documents_raw = docs_response.json()\n",
    "\n",
    "documents = []\n",
    "\n",
    "for course in documents_raw:\n",
    "    course_name = course['course']\n",
    "\n",
    "    for doc in course['documents']:\n",
    "        doc['course'] = course_name\n",
    "        documents.append(doc)"
   ]
  },
  {
   "cell_type": "code",
   "execution_count": null,
   "id": "822b37bb-86bd-4768-8e61-51abf26c9503",
   "metadata": {},
   "outputs": [],
   "source": [
    "index = minsearch.Index(\n",
    "    text_fields=[\"question\", \"text\", \"section\"],\n",
    "    keyword_fields=[\"course\"]\n",
    ")"
   ]
  },
  {
   "cell_type": "code",
   "execution_count": null,
   "id": "febc6663-915d-46dc-a323-0e1a9f2a60aa",
   "metadata": {},
   "outputs": [],
   "source": [
    "index.fit(documents)"
   ]
  },
  {
   "cell_type": "code",
   "execution_count": null,
   "id": "1611500d-03f9-473d-81bf-38db069f44ae",
   "metadata": {},
   "outputs": [],
   "source": [
    "from openai import OpenAI"
   ]
  },
  {
   "cell_type": "code",
   "execution_count": null,
   "id": "6a7ce027-d832-4e31-b9cf-d16ca770b5ec",
   "metadata": {},
   "outputs": [],
   "source": [
    "def search(q):\n",
    "    boost={'question':3.0,'section':0.5}\n",
    "    results= index.search(\n",
    "        query=q,\n",
    "        filter_dict={'course':'data-engineering-zoomcamp'},\n",
    "        boost_dict=boost,\n",
    "        num_results=5\n",
    "    )\n",
    "    return results\n"
   ]
  },
  {
   "cell_type": "code",
   "execution_count": null,
   "id": "a4be1592-0e2e-4cc3-abdd-94d39b879cc7",
   "metadata": {},
   "outputs": [],
   "source": [
    "def llm(prompt):\n",
    "    client = OpenAI()\n",
    "    response = client.chat.completions.create(\n",
    "        model='gpt-4o-mini',\n",
    "        messages=[{\"role\": \"user\", \"content\": prompt}],\n",
    "    )\n",
    "    results = response.choices[0].message.content\n",
    "    return results"
   ]
  },
  {
   "cell_type": "code",
   "execution_count": null,
   "id": "3cf7719e-367b-44d3-83e9-7d473ba31a30",
   "metadata": {},
   "outputs": [],
   "source": [
    "def build_context(query, search_results):\n",
    "    prompt_template =\"\"\"\n",
    "    You are the course teaching assistant. Answer the QUESTION based on the CONTEXT. \n",
    "    Only use facts from CONTEXT when answering the QUESTION.\n",
    "    If CONTEXT does not contain an answer, return NULL.\n",
    "    \n",
    "    QUESTION:{question}\n",
    "    \n",
    "    CONTEXT:\n",
    "    {context}\n",
    "    \"\"\".strip()\n",
    "    context =\"\"\n",
    "    for doc in search_results:\n",
    "        context = context + f\"section: {doc['section']}\\nquestion:{doc['question']}\\nanswer:{doc['text']}\\n\\n\"\n",
    "    prompt = prompt_template.format(question=query,context=context).strip()\n",
    "    return prompt"
   ]
  },
  {
   "cell_type": "code",
   "execution_count": null,
   "id": "2a14e2ce-1ea3-4d7e-865b-44770a3fe884",
   "metadata": {},
   "outputs": [],
   "source": [
    "def  rag(query):\n",
    "    search_results = search(query)\n",
    "    prompt=build_context(query,search_results)\n",
    "    llm_output = llm(prompt)\n",
    "    return llm_output"
   ]
  },
  {
   "cell_type": "code",
   "execution_count": null,
   "id": "cea41ee7-e9e9-4227-a88a-79b8d8b4b677",
   "metadata": {},
   "outputs": [],
   "source": [
    "query = \"How do I run a Kafka?\"\n",
    "rag(query)"
   ]
  },
  {
   "cell_type": "code",
   "execution_count": null,
   "id": "5767a573-6409-4e51-a912-dfb08b90cf5b",
   "metadata": {},
   "outputs": [],
   "source": [
    "from elasticsearch import Elasticsearch"
   ]
  },
  {
   "cell_type": "code",
   "execution_count": null,
   "id": "c8b3bc5b-9e25-4a9e-860c-42a828b5dad2",
   "metadata": {},
   "outputs": [],
   "source": [
    "es_client = Elasticsearch(\"http://localhost:9200\")"
   ]
  },
  {
   "cell_type": "code",
   "execution_count": null,
   "id": "b46e1e90-6b94-4339-8f9a-60cb45b91203",
   "metadata": {},
   "outputs": [],
   "source": [
    "index_settings={\n",
    "    \"settings\": {\n",
    "        \"number_of_shards\": 1,\n",
    "        \"number_of_replicas\": 0\n",
    "    },\n",
    "    \"mappings\": {\n",
    "        \"properties\": {\n",
    "            \"text\": {\"type\": \"text\"},\n",
    "            \"section\": {\"type\": \"text\"},\n",
    "            \"question\": {\"type\": \"text\"},\n",
    "            \"course\": {\"type\": \"keyword\"} \n",
    "        }\n",
    "    }\n",
    "}\n",
    "index_name =\"corse-index\""
   ]
  },
  {
   "cell_type": "code",
   "execution_count": null,
   "id": "e0545f75-9bdf-4882-8558-6f49ab3dc902",
   "metadata": {},
   "outputs": [],
   "source": [
    "es_client.indices.create(index=index_name, body=index_settings)"
   ]
  },
  {
   "cell_type": "code",
   "execution_count": null,
   "id": "10369ac4-eede-4bda-a9f3-a542050e9f99",
   "metadata": {},
   "outputs": [],
   "source": [
    "from tqdm.auto import tqdm"
   ]
  },
  {
   "cell_type": "code",
   "execution_count": null,
   "id": "f85cd484-5ea7-4aca-9b75-fcc497214bbe",
   "metadata": {},
   "outputs": [],
   "source": [
    "for doc in tqdm(documents):\n",
    "    es_client.index(index=index_name,document=doc)"
   ]
  },
  {
   "cell_type": "code",
   "execution_count": null,
   "id": "3818444a-2a2a-43de-8cbd-8b636e1e19c3",
   "metadata": {},
   "outputs": [],
   "source": [
    "query = \"How do execute a command on a Kubernetes pod?\""
   ]
  },
  {
   "cell_type": "code",
   "execution_count": null,
   "id": "bca4bf8c-c293-427a-8a60-91f3b3c97651",
   "metadata": {},
   "outputs": [],
   "source": [
    "def elastic_search(query):    \n",
    "    search_quesry={\n",
    "        \"size\": 5,\n",
    "        \"query\": {\n",
    "            \"bool\": {\n",
    "                \"must\": {\n",
    "                    \"multi_match\": {\n",
    "                        \"query\": query,\n",
    "                        \"fields\": [\"question^3\", \"text\", \"section\"],\n",
    "                        \"type\": \"best_fields\"\n",
    "                    }\n",
    "                },\n",
    "                \"filter\": {\n",
    "                    \"term\": {\n",
    "                        \"course\": \"data-engineering-zoomcamp\"\n",
    "                    }\n",
    "                }\n",
    "            }\n",
    "        }\n",
    "    }\n",
    "    es_results=es_client.search(index=index_name,body=search_quesry)\n",
    "    res_documents=[]\n",
    "    for hit in es_results['hits']['hits']:\n",
    "        res_documents.append(hit['_source'])\n",
    "    return res_documents"
   ]
  },
  {
   "cell_type": "code",
   "execution_count": null,
   "id": "9658a26b-96c2-458b-bf37-1305dcc9ffef",
   "metadata": {},
   "outputs": [],
   "source": [
    "search_quesry={\n",
    "    \"size\": 5,\n",
    "    \"query\": {\n",
    "        \"bool\": {\n",
    "            \"must\": {\n",
    "                \"multi_match\": {\n",
    "                    \"query\": query,\n",
    "                    \"fields\": [\"question^4\", \"text\"],\n",
    "                    \"type\": \"best_fields\"\n",
    "                }\n",
    "            },\n",
    "            \"filter\": {\n",
    "                \"term\": {\n",
    "                    \"course\": \"data-engineering-zoomcamp\"\n",
    "                }\n",
    "            }\n",
    "        }\n",
    "    }\n",
    "}\n",
    "es_results=es_client.search(index=index_name,body=search_quesry)"
   ]
  },
  {
   "cell_type": "code",
   "execution_count": null,
   "id": "bc040e67-ff7e-466f-8c46-9fad07afbeab",
   "metadata": {},
   "outputs": [],
   "source": [
    "es_results['hits']"
   ]
  },
  {
   "cell_type": "code",
   "execution_count": null,
   "id": "1cce37fe-0577-40cf-b35d-555a100f289e",
   "metadata": {},
   "outputs": [],
   "source": [
    "elastic_search(query)"
   ]
  },
  {
   "cell_type": "code",
   "execution_count": null,
   "id": "88a58dbb-989d-4914-93ac-20ccce186d0d",
   "metadata": {},
   "outputs": [],
   "source": [
    "def es_rag(query):\n",
    "    search_results = elastic_search(query)\n",
    "    prompt=build_context(query,search_results)\n",
    "    llm_output = llm(prompt)\n",
    "    return llm_output"
   ]
  },
  {
   "cell_type": "code",
   "execution_count": null,
   "id": "db346191-89a2-4485-a62d-7b5fb87c7711",
   "metadata": {},
   "outputs": [],
   "source": [
    "es_rag(query)"
   ]
  },
  {
   "cell_type": "code",
   "execution_count": null,
   "id": "5e091f22-066c-43de-81cb-fec5cd122201",
   "metadata": {},
   "outputs": [],
   "source": [
    "!curl localhost:9200"
   ]
  },
  {
   "cell_type": "code",
   "execution_count": 157,
   "id": "28449107-9bf7-4060-8ac7-4f4c1272b36b",
   "metadata": {},
   "outputs": [],
   "source": [
    "def elastic_search2(query):    \n",
    "    search_quesry2={\n",
    "        \"size\": 3,\n",
    "        \"query\": {\n",
    "            \"bool\": {\n",
    "                \"must\": {\n",
    "                    \"multi_match\": {\n",
    "                        \"query\": query,\n",
    "                            \"fields\": [\"question^3\", \"text\", \"section\"],\n",
    "                        \"type\": \"best_fields\"\n",
    "                    }\n",
    "                },\n",
    "                \"filter\": {\n",
    "                    \"term\": {\n",
    "                        \"course\": \"machine-learning-zoomcamp\"\n",
    "                    }\n",
    "                }\n",
    "            }\n",
    "        }\n",
    "    }\n",
    "    es_results=es_client.search(index=index_name,body=search_quesry2)\n",
    "    res_documents=[]\n",
    "    for hit in es_results['hits']['hits']:\n",
    "        res_documents.append(hit['_source'])\n",
    "    return res_documents"
   ]
  },
  {
   "cell_type": "code",
   "execution_count": 161,
   "id": "c34eebe4-7282-40f5-acd6-190e4a07b620",
   "metadata": {},
   "outputs": [],
   "source": [
    "query = \"How do copy a file to a Docker container?\""
   ]
  },
  {
   "cell_type": "code",
   "execution_count": 162,
   "id": "8e13b1c9-62b3-42fb-bb3e-aad0c9578ee5",
   "metadata": {},
   "outputs": [],
   "source": [
    "search_results2=elastic_search2(query)"
   ]
  },
  {
   "cell_type": "code",
   "execution_count": 163,
   "id": "76d9728d-4e4d-46db-9612-ff2f3bc374e1",
   "metadata": {},
   "outputs": [],
   "source": [
    "def build_context2(query, search_results):\n",
    "    prompt_template = \"\"\"\n",
    "    You're a course teaching assistant. Answer the QUESTION based on the CONTEXT from the FAQ database.\n",
    "    Use only the facts from the CONTEXT when answering the QUESTION.\n",
    "    \n",
    "    QUESTION: {question}\n",
    "    \n",
    "    CONTEXT:\n",
    "    {context}\n",
    "    \"\"\".strip()\n",
    "    context =\"\"\n",
    "    for doc in search_results:\n",
    "        context = context + f\"Q:{doc['question']}\\n\\nA:{doc['text']}\\n\\n\".strip()\n",
    "    prompt = prompt_template.format(question=query,context=context)\n",
    "    return prompt"
   ]
  },
  {
   "cell_type": "code",
   "execution_count": 165,
   "id": "2943171b-881c-4331-8bff-b3f154cd9001",
   "metadata": {},
   "outputs": [],
   "source": [
    "prompt2=build_context2(query,search_results2)"
   ]
  },
  {
   "cell_type": "code",
   "execution_count": 166,
   "id": "9b753fa2-2453-44e7-b00e-cc5588978e6d",
   "metadata": {},
   "outputs": [
    {
     "data": {
      "text/plain": [
       "'You\\'re a course teaching assistant. Answer the QUESTION based on the CONTEXT from the FAQ database.\\n    Use only the facts from the CONTEXT when answering the QUESTION.\\n\\n    QUESTION: How do copy a file to a Docker container?\\n\\n    CONTEXT:\\n    Q:Java Kafka: How to run producer/consumer/kstreams/etc in terminal\\n\\nA:In the project directory, run:\\njava -cp build/libs/<jar_name>-1.0-SNAPSHOT.jar:out src/main/java/org/example/JsonProducer.javaQ:Module “kafka” not found when trying to run producer.py\\n\\nA:Solution from Alexey: create a virtual environment and run requirements.txt and the python files in that environment.\\nTo create a virtual env and install packages (run only once)\\npython -m venv env\\nsource env/bin/activate\\npip install -r ../requirements.txt\\nTo activate it (you\\'ll need to run it every time you need the virtual env):\\nsource env/bin/activate\\nTo deactivate it:\\ndeactivate\\nThis works on MacOS, Linux and Windows - but for Windows the path is slightly different (it\\'s env/Scripts/activate)\\nAlso the virtual environment should be created only to run the python file. Docker images should first all be up and running.Q:How do I install the necessary dependencies to run the code?\\n\\nA:Answer: To run the provided code, ensure that the \\'dlt[duckdb]\\' package is installed. You can do this by executing the provided installation command: !pip install dlt[duckdb]. If you’re doing it locally, be sure to also have duckdb pip installed (even before the duckdb package is loaded).Q:Python Kafka: ./build.sh: Permission denied Error\\n\\nA:Run this command in terminal in the same directory (/docker/spark):\\nchmod +x build.shQ:How to fix the error \"ModuleNotFoundError: No module named \\'kafka.vendor.six.moves\\'\"?\\n\\nA:According to https://github.com/dpkp/kafka-python/\\n“DUE TO ISSUES WITH RELEASES, IT IS SUGGESTED TO USE https://github.com/wbarnha/kafka-python-ng FOR THE TIME BEING”\\nUse pip install kafka-python-ng instead'"
      ]
     },
     "execution_count": 166,
     "metadata": {},
     "output_type": "execute_result"
    }
   ],
   "source": [
    "prompt2"
   ]
  },
  {
   "cell_type": "code",
   "execution_count": null,
   "id": "6afa11dc-c6da-4ee8-ab98-3bd2ee2a0aba",
   "metadata": {},
   "outputs": [],
   "source": []
  }
 ],
 "metadata": {
  "kernelspec": {
   "display_name": "Python 3 (ipykernel)",
   "language": "python",
   "name": "python3"
  },
  "language_info": {
   "codemirror_mode": {
    "name": "ipython",
    "version": 3
   },
   "file_extension": ".py",
   "mimetype": "text/x-python",
   "name": "python",
   "nbconvert_exporter": "python",
   "pygments_lexer": "ipython3",
   "version": "3.12.1"
  }
 },
 "nbformat": 4,
 "nbformat_minor": 5
}
